{
  "nbformat": 4,
  "nbformat_minor": 0,
  "metadata": {
    "colab": {
      "provenance": [],
      "include_colab_link": true
    },
    "kernelspec": {
      "name": "python3",
      "display_name": "Python 3"
    },
    "language_info": {
      "name": "python"
    }
  },
  "cells": [
    {
      "cell_type": "markdown",
      "metadata": {
        "id": "view-in-github",
        "colab_type": "text"
      },
      "source": [
        "<a href=\"https://colab.research.google.com/github/nmeena2/astro_assignments/blob/main/405_Hw_7.ipynb\" target=\"_parent\"><img src=\"https://colab.research.google.com/assets/colab-badge.svg\" alt=\"Open In Colab\"/></a>"
      ]
    },
    {
      "cell_type": "code",
      "metadata": {
        "id": "z3pDQsx1Ie-n"
      },
      "source": [
        "import matplotlib.pyplot as plt\n",
        "import pandas as pd\n",
        "import numpy as np\n"
      ],
      "execution_count": null,
      "outputs": []
    },
    {
      "cell_type": "code",
      "metadata": {
        "id": "Hzo9BjJiJNs1",
        "colab": {
          "base_uri": "https://localhost:8080/",
          "height": 557
        },
        "outputId": "95cb6735-ab87-47b8-9d41-3bf5467dc305"
      },
      "source": [
        "data = 'https://www.minorplanetcenter.net/iau/MPCORB/CometEls.txt'\n",
        "comets = pd.read_fwf(data, header = None)\n",
        "per_dist = comets[4]\n",
        "ecc = comets[5]\n",
        "\n",
        "#1\n",
        "\n",
        "#Perihelion distance is r = a(1-e)\n",
        "y = range(len(comets[1]))\n",
        "a = per_dist/(1 - ecc)\n",
        "a_inv = 1/a\n",
        "comets"
      ],
      "execution_count": null,
      "outputs": [
        {
          "output_type": "execute_result",
          "data": {
            "text/html": [
              "<div>\n",
              "<style scoped>\n",
              "    .dataframe tbody tr th:only-of-type {\n",
              "        vertical-align: middle;\n",
              "    }\n",
              "\n",
              "    .dataframe tbody tr th {\n",
              "        vertical-align: top;\n",
              "    }\n",
              "\n",
              "    .dataframe thead th {\n",
              "        text-align: right;\n",
              "    }\n",
              "</style>\n",
              "<table border=\"1\" class=\"dataframe\">\n",
              "  <thead>\n",
              "    <tr style=\"text-align: right;\">\n",
              "      <th></th>\n",
              "      <th>0</th>\n",
              "      <th>1</th>\n",
              "      <th>2</th>\n",
              "      <th>3</th>\n",
              "      <th>4</th>\n",
              "      <th>5</th>\n",
              "      <th>6</th>\n",
              "      <th>7</th>\n",
              "      <th>8</th>\n",
              "      <th>9</th>\n",
              "      <th>10</th>\n",
              "      <th>11</th>\n",
              "      <th>12</th>\n",
              "      <th>13</th>\n",
              "      <th>14</th>\n",
              "    </tr>\n",
              "  </thead>\n",
              "  <tbody>\n",
              "    <tr>\n",
              "      <th>0</th>\n",
              "      <td>CJ95O010</td>\n",
              "      <td>1997</td>\n",
              "      <td>3</td>\n",
              "      <td>29.7427</td>\n",
              "      <td>0.902530</td>\n",
              "      <td>0.994950</td>\n",
              "      <td>130.5173</td>\n",
              "      <td>283.2584</td>\n",
              "      <td>89.0382</td>\n",
              "      <td>20210325.0</td>\n",
              "      <td>-2.0</td>\n",
              "      <td>4.0</td>\n",
              "      <td>C/1995</td>\n",
              "      <td>O1 (Hale-Bopp)</td>\n",
              "      <td>MPC106342</td>\n",
              "    </tr>\n",
              "    <tr>\n",
              "      <th>1</th>\n",
              "      <td>PJ96R020</td>\n",
              "      <td>2019</td>\n",
              "      <td>2</td>\n",
              "      <td>11.7369</td>\n",
              "      <td>2.589142</td>\n",
              "      <td>0.314137</td>\n",
              "      <td>333.3165</td>\n",
              "      <td>40.0260</td>\n",
              "      <td>2.6004</td>\n",
              "      <td>20210325.0</td>\n",
              "      <td>11.5</td>\n",
              "      <td>4.0</td>\n",
              "      <td>P/1996</td>\n",
              "      <td>R2 (Lagerkvist)</td>\n",
              "      <td>NK   1615</td>\n",
              "    </tr>\n",
              "    <tr>\n",
              "      <th>2</th>\n",
              "      <td>PJ97B010</td>\n",
              "      <td>2022</td>\n",
              "      <td>3</td>\n",
              "      <td>28.7782</td>\n",
              "      <td>2.055749</td>\n",
              "      <td>0.760170</td>\n",
              "      <td>183.3467</td>\n",
              "      <td>328.8823</td>\n",
              "      <td>12.3395</td>\n",
              "      <td>20210325.0</td>\n",
              "      <td>15.0</td>\n",
              "      <td>2.0</td>\n",
              "      <td>P/1997</td>\n",
              "      <td>B1 (Kobayashi)</td>\n",
              "      <td>MPC 30063</td>\n",
              "    </tr>\n",
              "    <tr>\n",
              "      <th>3</th>\n",
              "      <td>PJ98V24S</td>\n",
              "      <td>2018</td>\n",
              "      <td>1</td>\n",
              "      <td>18.0526</td>\n",
              "      <td>3.432192</td>\n",
              "      <td>0.242146</td>\n",
              "      <td>244.6437</td>\n",
              "      <td>159.0333</td>\n",
              "      <td>5.0257</td>\n",
              "      <td>20210325.0</td>\n",
              "      <td>13.0</td>\n",
              "      <td>2.0</td>\n",
              "      <td>P/1998</td>\n",
              "      <td>VS24 (LINEAR)</td>\n",
              "      <td>MPC 75703</td>\n",
              "    </tr>\n",
              "    <tr>\n",
              "      <th>4</th>\n",
              "      <td>PJ99R28O</td>\n",
              "      <td>2019</td>\n",
              "      <td>6</td>\n",
              "      <td>26.1807</td>\n",
              "      <td>1.123436</td>\n",
              "      <td>0.672155</td>\n",
              "      <td>231.2650</td>\n",
              "      <td>137.8849</td>\n",
              "      <td>7.5671</td>\n",
              "      <td>20210325.0</td>\n",
              "      <td>20.0</td>\n",
              "      <td>2.0</td>\n",
              "      <td>P/1999</td>\n",
              "      <td>RO28 (LONEOS)</td>\n",
              "      <td>NK    731</td>\n",
              "    </tr>\n",
              "    <tr>\n",
              "      <th>...</th>\n",
              "      <td>...</td>\n",
              "      <td>...</td>\n",
              "      <td>...</td>\n",
              "      <td>...</td>\n",
              "      <td>...</td>\n",
              "      <td>...</td>\n",
              "      <td>...</td>\n",
              "      <td>...</td>\n",
              "      <td>...</td>\n",
              "      <td>...</td>\n",
              "      <td>...</td>\n",
              "      <td>...</td>\n",
              "      <td>...</td>\n",
              "      <td>...</td>\n",
              "      <td>...</td>\n",
              "    </tr>\n",
              "    <tr>\n",
              "      <th>908</th>\n",
              "      <td>P</td>\n",
              "      <td>2021</td>\n",
              "      <td>2</td>\n",
              "      <td>15.4971</td>\n",
              "      <td>2.189946</td>\n",
              "      <td>0.454399</td>\n",
              "      <td>134.5269</td>\n",
              "      <td>355.8120</td>\n",
              "      <td>3.3612</td>\n",
              "      <td>20210325.0</td>\n",
              "      <td>15.5</td>\n",
              "      <td>4.0</td>\n",
              "      <td>416P/S</td>\n",
              "      <td>otti</td>\n",
              "      <td>MPEC 2021-F20</td>\n",
              "    </tr>\n",
              "    <tr>\n",
              "      <th>909</th>\n",
              "      <td>P</td>\n",
              "      <td>2021</td>\n",
              "      <td>4</td>\n",
              "      <td>22.1717</td>\n",
              "      <td>1.492012</td>\n",
              "      <td>0.554330</td>\n",
              "      <td>129.4568</td>\n",
              "      <td>111.3510</td>\n",
              "      <td>8.1310</td>\n",
              "      <td>20210325.0</td>\n",
              "      <td>16.5</td>\n",
              "      <td>4.0</td>\n",
              "      <td>417P/N</td>\n",
              "      <td>OWISE</td>\n",
              "      <td>MPEC 2021-F20</td>\n",
              "    </tr>\n",
              "    <tr>\n",
              "      <th>910</th>\n",
              "      <td>P</td>\n",
              "      <td>2021</td>\n",
              "      <td>10</td>\n",
              "      <td>17.5527</td>\n",
              "      <td>1.702887</td>\n",
              "      <td>0.664951</td>\n",
              "      <td>307.0916</td>\n",
              "      <td>277.6619</td>\n",
              "      <td>5.7976</td>\n",
              "      <td>20210325.0</td>\n",
              "      <td>13.0</td>\n",
              "      <td>4.0</td>\n",
              "      <td>418P/L</td>\n",
              "      <td>NEAR</td>\n",
              "      <td>MPEC 2021-F20</td>\n",
              "    </tr>\n",
              "    <tr>\n",
              "      <th>911</th>\n",
              "      <td>I</td>\n",
              "      <td>2017</td>\n",
              "      <td>9</td>\n",
              "      <td>9.4886</td>\n",
              "      <td>0.255240</td>\n",
              "      <td>1.199252</td>\n",
              "      <td>241.6845</td>\n",
              "      <td>24.5997</td>\n",
              "      <td>122.6778</td>\n",
              "      <td>20170904.0</td>\n",
              "      <td>23.0</td>\n",
              "      <td>2.0</td>\n",
              "      <td>1I/`Ou</td>\n",
              "      <td>uamua</td>\n",
              "      <td>MPC107687</td>\n",
              "    </tr>\n",
              "    <tr>\n",
              "      <th>912</th>\n",
              "      <td>I</td>\n",
              "      <td>2019</td>\n",
              "      <td>12</td>\n",
              "      <td>8.5549</td>\n",
              "      <td>2.006548</td>\n",
              "      <td>3.356636</td>\n",
              "      <td>209.1251</td>\n",
              "      <td>308.1480</td>\n",
              "      <td>44.0527</td>\n",
              "      <td>20191223.0</td>\n",
              "      <td>11.0</td>\n",
              "      <td>4.0</td>\n",
              "      <td>2I/Bor</td>\n",
              "      <td>sov</td>\n",
              "      <td>MPEC 2020-K19</td>\n",
              "    </tr>\n",
              "  </tbody>\n",
              "</table>\n",
              "<p>913 rows × 15 columns</p>\n",
              "</div>"
            ],
            "text/plain": [
              "           0     1   2        3   ...   11      12               13             14\n",
              "0    CJ95O010  1997   3  29.7427  ...  4.0  C/1995   O1 (Hale-Bopp)      MPC106342\n",
              "1    PJ96R020  2019   2  11.7369  ...  4.0  P/1996  R2 (Lagerkvist)      NK   1615\n",
              "2    PJ97B010  2022   3  28.7782  ...  2.0  P/1997   B1 (Kobayashi)      MPC 30063\n",
              "3    PJ98V24S  2018   1  18.0526  ...  2.0  P/1998    VS24 (LINEAR)      MPC 75703\n",
              "4    PJ99R28O  2019   6  26.1807  ...  2.0  P/1999    RO28 (LONEOS)      NK    731\n",
              "..        ...   ...  ..      ...  ...  ...     ...              ...            ...\n",
              "908         P  2021   2  15.4971  ...  4.0  416P/S             otti  MPEC 2021-F20\n",
              "909         P  2021   4  22.1717  ...  4.0  417P/N            OWISE  MPEC 2021-F20\n",
              "910         P  2021  10  17.5527  ...  4.0  418P/L             NEAR  MPEC 2021-F20\n",
              "911         I  2017   9   9.4886  ...  2.0  1I/`Ou            uamua      MPC107687\n",
              "912         I  2019  12   8.5549  ...  4.0  2I/Bor              sov  MPEC 2020-K19\n",
              "\n",
              "[913 rows x 15 columns]"
            ]
          },
          "metadata": {
            "tags": []
          },
          "execution_count": 24
        }
      ]
    },
    {
      "cell_type": "code",
      "metadata": {
        "colab": {
          "base_uri": "https://localhost:8080/",
          "height": 295
        },
        "id": "RgRC2FfCJrM3",
        "outputId": "1405521b-d66f-4d0e-ff65-74dc73e0e7c6"
      },
      "source": [
        "plt.hist(a_inv, range = [-0.005, 0.045], bins = 75, color = 'purple')\n",
        "plt.xlabel('1/a (Au')\n",
        "plt.ylabel('Number')\n",
        "\n",
        "#My graph is very similar to the one in the textbook.\n",
        "#The comets origin is mainly from the Oort cloud."
      ],
      "execution_count": null,
      "outputs": [
        {
          "output_type": "execute_result",
          "data": {
            "text/plain": [
              "Text(0, 0.5, 'Number')"
            ]
          },
          "metadata": {
            "tags": []
          },
          "execution_count": 3
        },
        {
          "output_type": "display_data",
          "data": {
            "image/png": "[encoded data removed]",
            "text/plain": [
              "<Figure size 432x288 with 1 Axes>"
            ]
          },
          "metadata": {
            "tags": [],
            "needs_background": "light"
          }
        }
      ]
    },
    {
      "cell_type": "code",
      "metadata": {
        "id": "yqR40CU_Jwc8",
        "colab": {
          "base_uri": "https://localhost:8080/",
          "height": 347
        },
        "outputId": "c4c14329-db6e-4e04-aff2-74e97ad731dd"
      },
      "source": [
        "i = comets[8]\n",
        "sin_i = np.sin(i)\n",
        "plt.scatter(np.log(a), sin_i, color = 'r')\n",
        "\n",
        "plt.xlabel('a')\n",
        "plt.ylabel('sin i')\n",
        "\n",
        "#There is no clear pattern for semimajor axis with inclination. Comets with\n",
        "#smaller orbits do not tend to lie closer to the ecliptic.\n",
        "#They'e orbit path is all over above and below the ecliptic."
      ],
      "execution_count": null,
      "outputs": [
        {
          "output_type": "stream",
          "text": [
            "/usr/local/lib/python3.7/dist-packages/pandas/core/series.py:726: RuntimeWarning: invalid value encountered in log\n",
            "  result = getattr(ufunc, method)(*inputs, **kwargs)\n"
          ],
          "name": "stderr"
        },
        {
          "output_type": "execute_result",
          "data": {
            "text/plain": [
              "Text(0, 0.5, 'sin i')"
            ]
          },
          "metadata": {
            "tags": []
          },
          "execution_count": 32
        },
        {
          "output_type": "display_data",
          "data": {
            "image/png": "[encoded data removed]",
            "text/plain": [
              "<Figure size 432x288 with 1 Axes>"
            ]
          },
          "metadata": {
            "tags": [],
            "needs_background": "light"
          }
        }
      ]
    },
    {
      "cell_type": "code",
      "metadata": {
        "id": "nedxdUmG7bwW"
      },
      "source": [
        "#3c\n",
        "\n",
        "#vR1 = K1*np.sin(w1*t +phi1)\n",
        "#vR2 = K2 * np.sin(w2*t + phi2)\n",
        "#vR = vR1 + vR2"
      ],
      "execution_count": null,
      "outputs": []
    },
    {
      "cell_type": "code",
      "metadata": {
        "id": "6gVic7tRTzX5"
      },
      "source": [],
      "execution_count": null,
      "outputs": []
    }
  ]
}