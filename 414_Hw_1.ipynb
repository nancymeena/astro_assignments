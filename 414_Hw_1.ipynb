{
  "nbformat": 4,
  "nbformat_minor": 0,
  "metadata": {
    "colab": {
      "provenance": [],
      "include_colab_link": true
    },
    "kernelspec": {
      "name": "python3",
      "display_name": "Python 3"
    }
  },
  "cells": [
    {
      "cell_type": "markdown",
      "metadata": {
        "id": "view-in-github",
        "colab_type": "text"
      },
      "source": [
        "<a href=\"https://colab.research.google.com/github/nmeena2/astro_assignments/blob/main/414_Hw_1.ipynb\" target=\"_parent\"><img src=\"https://colab.research.google.com/assets/colab-badge.svg\" alt=\"Open In Colab\"/></a>"
      ]
    },
    {
      "cell_type": "code",
      "metadata": {
        "colab": {
          "base_uri": "https://localhost:8080/",
          "height": 295
        },
        "id": "qVI4gCGlD5rA",
        "outputId": "3e4c36a3-0a51-4589-d1f4-2837e91a29f1"
      },
      "source": [
        "import matplotlib.pyplot as plt\n",
        "import numpy as np\n",
        "from astropy import constants as const\n",
        "\n",
        "# wavelength\n",
        "lmin, lmax = 10**-12, 10**3\n",
        "x = np.linspace(lmin, lmax, 100000)\n",
        "\n",
        "#Frequency\n",
        "fmin, fmax = 10**6, 10**20\n",
        "y = np.linspace(fmin, fmax, 10)\n",
        "\n",
        "#Energy\n",
        "emin, emax = 10**-9, 10**6\n",
        "z = np.linspace (emin, emax, 10)\n",
        "\n",
        "fig = plt.figure()\n",
        "ax = fig.add_subplot(111, facecolor='w')\n",
        "\n",
        "ax.plot(x, c='k', lw=2)\n",
        "ax.plot(y)\n",
        "ax.plot(z)\n",
        "\n",
        "ax.set_xlim(-0.5, 10**3)\n",
        "ax.set_ylim(-10,10)\n",
        "\n",
        "ax.text(10**-3, 1.5, 'UV', color='k', fontdict={'fontsize': 15})\n",
        "ax.text(10**-6, 1.5, 'Visible', color='w', fontdict={'fontsize': 15})\n",
        "\n",
        "ax.text(400, 1.5, 'Radio Waves', color='k', fontdict={'fontsize': 15})\n",
        "ax.axvline(10**-6, -2, 2, c='w', ls='--')\n",
        "ax.axvline(10**-3, -2, 2, c='w', ls='--')\n",
        "\n",
        "ax.axhline(c='w')\n",
        "\n",
        "ax.yaxis.set_visible(False)\n",
        "ax.set_xlabel('Wavelength(m)')\n",
        "plt.title('E-M Spectrum')\n",
        "\n",
        "plt.show()\n"
      ],
      "execution_count": null,
      "outputs": [
        {
          "output_type": "display_data",
          "data": {
            "image/png": "[encoded data removed]",
            "text/plain": [
              "<Figure size 432x288 with 1 Axes>"
            ]
          },
          "metadata": {
            "tags": [],
            "needs_background": "light"
          }
        }
      ]
    },
    {
      "cell_type": "code",
      "metadata": {
        "id": "f9L79J9_F88m"
      },
      "source": [],
      "execution_count": null,
      "outputs": []
    }
  ]
}