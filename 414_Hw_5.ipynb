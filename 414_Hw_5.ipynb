{
  "nbformat": 4,
  "nbformat_minor": 0,
  "metadata": {
    "colab": {
      "provenance": [],
      "include_colab_link": true
    },
    "kernelspec": {
      "name": "python3",
      "display_name": "Python 3"
    }
  },
  "cells": [
    {
      "cell_type": "markdown",
      "metadata": {
        "id": "view-in-github",
        "colab_type": "text"
      },
      "source": [
        "<a href=\"https://colab.research.google.com/github/nmeena2/astro_assignments/blob/main/414_Hw_5.ipynb\" target=\"_parent\"><img src=\"https://colab.research.google.com/assets/colab-badge.svg\" alt=\"Open In Colab\"/></a>"
      ]
    },
    {
      "cell_type": "code",
      "metadata": {
        "colab": {
          "base_uri": "https://localhost:8080/"
        },
        "id": "d-9eieV5S5oi",
        "outputId": "fd3ee548-9468-443c-c0b4-f4c0f821a5d5"
      },
      "source": [
        "from google.colab import drive\n",
        "drive.mount('/content/gdrive')\n",
        "import os\n",
        "import numpy as np\n",
        "import matplotlib.pyplot as plt\n",
        "\n",
        "from astropy.io import fits\n",
        "\n"
      ],
      "execution_count": null,
      "outputs": [
        {
          "output_type": "stream",
          "text": [
            "Mounted at /content/gdrive\n"
          ],
          "name": "stdout"
        }
      ]
    },
    {
      "cell_type": "code",
      "metadata": {
        "id": "q0Y6bWT694uD"
      },
      "source": [
        "optics1 = fits.open('/content/gdrive/MyDrive/DESJ053816.9-503050.8_g.fits')\n",
        "optics2 = fits.open('/content/gdrive/MyDrive/DESJ053816.9-503050.8_i.fits')\n",
        "optics3 = fits.open('/content/gdrive/MyDrive/DESJ053816.9-503050.8_r.fits')\n",
        "\n",
        "SPT= fits.open('/content/gdrive/MyDrive/SPT0538-50_fmap_220GHz.fits')[0].data\n"
      ],
      "execution_count": null,
      "outputs": []
    },
    {
      "cell_type": "code",
      "metadata": {
        "colab": {
          "base_uri": "https://localhost:8080/"
        },
        "id": "7Cfk2SXS_oAp",
        "outputId": "2b2c6134-8412-427e-8ef4-4296bd154ee1"
      },
      "source": [
        "noise= np.std(SPT)\n",
        "print(noise)"
      ],
      "execution_count": null,
      "outputs": [
        {
          "output_type": "stream",
          "text": [
            "7.949267e-05\n"
          ],
          "name": "stdout"
        }
      ]
    },
    {
      "cell_type": "code",
      "metadata": {
        "colab": {
          "base_uri": "https://localhost:8080/"
        },
        "id": "8i7y9xNFBn2X",
        "outputId": "f8a6ccaf-39bb-4eb5-91af-49403be7544d"
      },
      "source": [
        "#contour levels:\n",
        "three = 3*noise\n",
        "five = 5*noise\n",
        "sev = 7*noise\n",
        "nine = 9*noise\n",
        "print(three)\n",
        "print(five)\n",
        "print(sev)\n",
        "print(nine)"
      ],
      "execution_count": null,
      "outputs": [
        {
          "output_type": "stream",
          "text": [
            "0.00023847800184739754\n",
            "0.0003974633364123292\n",
            "0.0005564486709772609\n",
            "0.0007154340055421926\n"
          ],
          "name": "stdout"
        }
      ]
    },
    {
      "cell_type": "code",
      "metadata": {
        "id": "fsHl_pWvPoTE"
      },
      "source": [],
      "execution_count": null,
      "outputs": []
    }
  ]
}