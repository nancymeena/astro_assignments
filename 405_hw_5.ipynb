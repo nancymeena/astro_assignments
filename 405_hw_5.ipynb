{
  "nbformat": 4,
  "nbformat_minor": 0,
  "metadata": {
    "colab": {
      "provenance": [],
      "include_colab_link": true
    },
    "kernelspec": {
      "name": "python3",
      "display_name": "Python 3"
    }
  },
  "cells": [
    {
      "cell_type": "markdown",
      "metadata": {
        "id": "view-in-github",
        "colab_type": "text"
      },
      "source": [
        "<a href=\"https://colab.research.google.com/github/nmeena2/astro_assignments/blob/main/405_hw_5.ipynb\" target=\"_parent\"><img src=\"https://colab.research.google.com/assets/colab-badge.svg\" alt=\"Open In Colab\"/></a>"
      ]
    },
    {
      "cell_type": "code",
      "metadata": {
        "colab": {
          "base_uri": "https://localhost:8080/",
          "height": 286
        },
        "id": "-9NZobt9Pi_T",
        "outputId": "71fbdd45-4b8b-4a8f-8c93-829e80f12d34"
      },
      "source": [
        "#b\n",
        "\n",
        "import matplotlib.pyplot as plt\n",
        "import numpy as np\n",
        "\n",
        "\n",
        "RbSr = np.array([0.02, 1.7, 5.5, 9])\n",
        "SrSr = np.array([0.7014, 0.7732, 0.9356, 1.0853])\n",
        "\n",
        "plt.plot(RbSr, SrSr, '.')\n",
        "plt.xlabel(r'$^{87}$Rb/$^{86}$Sr')\n",
        "plt.ylabel(r'$^{87}$Sr/$^{86}$Sr')\n",
        "plt.show()\n",
        "\n",
        "\n"
      ],
      "execution_count": null,
      "outputs": [
        {
          "output_type": "display_data",
          "data": {
            "image/png": "[encoded data removed]",
            "text/plain": [
              "<Figure size 432x288 with 1 Axes>"
            ]
          },
          "metadata": {
            "tags": [],
            "needs_background": "light"
          }
        }
      ]
    },
    {
      "cell_type": "code",
      "metadata": {
        "colab": {
          "base_uri": "https://localhost:8080/",
          "height": 355
        },
        "id": "I-GtYBpwRofb",
        "outputId": "2093e51e-5aa9-4bfc-c942-da8057ef71b9"
      },
      "source": [
        "#c\n",
        "\n",
        "import matplotlib.pyplot as plt\n",
        "import numpy as np\n",
        "\n",
        "\n",
        "RbSr = np.array([0.02, 1.7, 5.5, 9])\n",
        "SrSr = np.array([0.7014, 0.7732, 0.9356, 1.0853])\n",
        "\n",
        "z = np.polyfit(RbSr, SrSr, 5)\n",
        "y = np.poly1d(z)\n",
        "\n",
        "new_x = np.linspace(RbSr[0], RbSr[-1])\n",
        "new_y = y(new_x)\n",
        "\n",
        "plt.plot(RbSr, SrSr,'o', new_x, new_y)\n",
        "plt.xlabel(r'$^{87}$Rb/$^{86}$Sr')\n",
        "plt.ylabel(r'$^{87}$Sr/$^{86}$Sr')\n",
        "plt.show()\n",
        "\n",
        "#d\n",
        "#age of rock is:\n",
        "\n",
        "y1 = 0.7014\n",
        "y2= 1.0853\n",
        "\n",
        "x1= 0.02\n",
        "x2=9\n",
        "lamb= (y2-y1)/(x2-x1)\n",
        "\n",
        "age = lamb*np.log(2)\n",
        "\n",
        "print('age of rock is', age)\n"
      ],
      "execution_count": null,
      "outputs": [
        {
          "output_type": "stream",
          "text": [
            "/usr/local/lib/python3.7/dist-packages/IPython/core/interactiveshell.py:2882: RankWarning: Polyfit may be poorly conditioned\n",
            "  exec(code_obj, self.user_global_ns, self.user_ns)\n"
          ],
          "name": "stderr"
        },
        {
          "output_type": "display_data",
          "data": {
            "image/png": "[encoded data removed]",
            "text/plain": [
              "<Figure size 432x288 with 1 Axes>"
            ]
          },
          "metadata": {
            "tags": [],
            "needs_background": "light"
          }
        },
        {
          "output_type": "stream",
          "text": [
            "age of rock is 0.029632427908347764\n"
          ],
          "name": "stdout"
        }
      ]
    },
    {
      "cell_type": "code",
      "metadata": {
        "id": "0fCPFGLUTajP"
      },
      "source": [],
      "execution_count": null,
      "outputs": []
    }
  ]
}